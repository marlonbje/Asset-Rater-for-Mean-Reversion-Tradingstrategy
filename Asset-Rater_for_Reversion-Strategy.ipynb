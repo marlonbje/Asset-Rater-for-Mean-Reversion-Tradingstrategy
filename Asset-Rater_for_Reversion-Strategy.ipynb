{
 "cells": [
  {
   "metadata": {},
   "cell_type": "markdown",
   "source": "## Asset Rater for Daily-Mean-Reversion-Strategy\n__Goal:__ Find the most volatile Asset with the biggest difference to it's average daily close and whose daily close has least deviation to itself and a high likelyhood to revert to."
  },
  {
   "metadata": {
    "trusted": true
   },
   "cell_type": "code",
   "source": "import pandas as pd\nimport numpy as np\n\nclass data_comparison():\n    def __init__(self,file):\n        self.file = file\n        self.df = pd.read_csv(self.file).tail(1400)\n        self.name = self.file.split('.')[0]\n\n        self.diff = np.log(self.df['Close']).diff().dropna()*100\n        self.stats = self.diff.describe()\n        self.mean = self.stats['mean']\n        self.std = self.stats['std']\n\n        self.adr = (self.df['High'] - self.df['Low'])/self.df['Open']*100\n        \n    def rate_data(self):\n        rating = (np.mean(self.adr) - abs(self.mean))/self.std\n        return rating\n        \nstocks = ['aapl.csv','nvda.csv','tsla.csv','spy.csv','smh.csv','cat.csv','googl.csv','ge.csv','wmt.csv','asml.csv']\ndframe = pd.DataFrame(columns=['name','rating'])\n\nfor i in stocks:\n    name = i\n    i = data_comparison(i)\n    dframe.loc[len(dframe)] = name.split('.')[0],i.rate_data()\n    \ndframe.sort_values(by='rating',ascending=False,inplace=True)\ndframe.reset_index(inplace=True,drop=True)\ndframe",
   "execution_count": 4,
   "outputs": [
    {
     "output_type": "execute_result",
     "execution_count": 4,
     "data": {
      "text/plain": "    name    rating\n0     ge  1.226787\n1    cat  1.199801\n2    wmt  1.187388\n3   tsla  1.167289\n4  googl  1.109259\n5   aapl  1.095613\n6    smh  1.080575\n7    spy  1.077332\n8   nvda  1.074557\n9   asml  0.787442",
      "text/html": "<div>\n<style scoped>\n    .dataframe tbody tr th:only-of-type {\n        vertical-align: middle;\n    }\n\n    .dataframe tbody tr th {\n        vertical-align: top;\n    }\n\n    .dataframe thead th {\n        text-align: right;\n    }\n</style>\n<table border=\"1\" class=\"dataframe\">\n  <thead>\n    <tr style=\"text-align: right;\">\n      <th></th>\n      <th>name</th>\n      <th>rating</th>\n    </tr>\n  </thead>\n  <tbody>\n    <tr>\n      <th>0</th>\n      <td>ge</td>\n      <td>1.226787</td>\n    </tr>\n    <tr>\n      <th>1</th>\n      <td>cat</td>\n      <td>1.199801</td>\n    </tr>\n    <tr>\n      <th>2</th>\n      <td>wmt</td>\n      <td>1.187388</td>\n    </tr>\n    <tr>\n      <th>3</th>\n      <td>tsla</td>\n      <td>1.167289</td>\n    </tr>\n    <tr>\n      <th>4</th>\n      <td>googl</td>\n      <td>1.109259</td>\n    </tr>\n    <tr>\n      <th>5</th>\n      <td>aapl</td>\n      <td>1.095613</td>\n    </tr>\n    <tr>\n      <th>6</th>\n      <td>smh</td>\n      <td>1.080575</td>\n    </tr>\n    <tr>\n      <th>7</th>\n      <td>spy</td>\n      <td>1.077332</td>\n    </tr>\n    <tr>\n      <th>8</th>\n      <td>nvda</td>\n      <td>1.074557</td>\n    </tr>\n    <tr>\n      <th>9</th>\n      <td>asml</td>\n      <td>0.787442</td>\n    </tr>\n  </tbody>\n</table>\n</div>"
     },
     "metadata": {}
    }
   ]
  }
 ],
 "metadata": {
  "kernelspec": {
   "name": "python3",
   "display_name": "Python 3",
   "language": "python"
  },
  "language_info": {
   "name": "python",
   "version": "3.10.4",
   "mimetype": "text/x-python",
   "codemirror_mode": {
    "name": "ipython",
    "version": 3
   },
   "pygments_lexer": "ipython3",
   "nbconvert_exporter": "python",
   "file_extension": ".py"
  }
 },
 "nbformat": 4,
 "nbformat_minor": 2
}