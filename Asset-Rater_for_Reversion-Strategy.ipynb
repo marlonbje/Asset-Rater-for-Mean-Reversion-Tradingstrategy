{
 "cells": [
  {
   "metadata": {},
   "cell_type": "markdown",
   "source": "## Asset Rater for Daily-Mean-Reversion-Strategy\n__Goal:__ Find the most volatile Asset with the biggest difference to it's average daily close and whose daily close has least deviation to itself and a high likelyhood to revert to."
  },
  {
   "metadata": {
    "trusted": true
   },
   "cell_type": "code",
   "source": "import pandas as pd\nimport numpy as np\nimport yfinance as yf\n\nclass data_comparison():\n    def __init__(self,file):\n        self.file = file\n        self.df = pd.read_csv(self.file)\n        self.name = self.file.split('.')[0]\n\n        self.diff = np.log(self.df['Close']).diff().dropna()*100\n        self.stats = self.diff.describe()\n        self.mean = self.stats['mean']\n        self.std = self.stats['std']\n\n        self.adr = (self.df['High'] - self.df['Low'])/self.df['Open']*100\n        \n    def rate_data(self):\n        rating = (np.mean(self.adr) - abs(self.mean))/self.std\n        return rating\n\n#for e.g. data\nstocks = ['aapl.csv','nvda.csv','tsla.csv','spy.csv','smh.csv','cat.csv','googl.csv','ge.csv','wmt.csv','asml.csv']\ndframe = pd.DataFrame(columns=['name','rating'])\n\n#for yfinance extractions\nTickers = ['MSFT','NVDA','AVGO']\nfor Ticker in Tickers:\n    yf_data = yf.Ticker(Ticker).history(period='1mo',interval='15m')\n    filename = f'{Ticker}.csv'\n    yf_data.to_csv(filename)\n    stocks.append(filename)\n\n    \nfor i in stocks:\n    name = i.upper()\n    i = data_comparison(i)\n    dframe.loc[len(dframe)] = name.split('.')[0],i.rate_data()\n    \ndframe.sort_values(by='rating',ascending=False,inplace=True)\ndframe.reset_index(inplace=True,drop=True)\ndframe",
   "execution_count": 3,
   "outputs": [
    {
     "output_type": "execute_result",
     "execution_count": 3,
     "data": {
      "text/plain": "    name    rating\n0     GE  1.179631\n1    SMH  1.170741\n2   TSLA  1.160855\n3    CAT  1.147024\n4   AAPL  1.122090\n5   NVDA  1.112073\n6  GOOGL  1.061903\n7    SPY  1.025374\n8   ASML  0.898649\n9    WMT  0.626276",
      "text/html": "<div>\n<style scoped>\n    .dataframe tbody tr th:only-of-type {\n        vertical-align: middle;\n    }\n\n    .dataframe tbody tr th {\n        vertical-align: top;\n    }\n\n    .dataframe thead th {\n        text-align: right;\n    }\n</style>\n<table border=\"1\" class=\"dataframe\">\n  <thead>\n    <tr style=\"text-align: right;\">\n      <th></th>\n      <th>name</th>\n      <th>rating</th>\n    </tr>\n  </thead>\n  <tbody>\n    <tr>\n      <th>0</th>\n      <td>GE</td>\n      <td>1.179631</td>\n    </tr>\n    <tr>\n      <th>1</th>\n      <td>SMH</td>\n      <td>1.170741</td>\n    </tr>\n    <tr>\n      <th>2</th>\n      <td>TSLA</td>\n      <td>1.160855</td>\n    </tr>\n    <tr>\n      <th>3</th>\n      <td>CAT</td>\n      <td>1.147024</td>\n    </tr>\n    <tr>\n      <th>4</th>\n      <td>AAPL</td>\n      <td>1.122090</td>\n    </tr>\n    <tr>\n      <th>5</th>\n      <td>NVDA</td>\n      <td>1.112073</td>\n    </tr>\n    <tr>\n      <th>6</th>\n      <td>GOOGL</td>\n      <td>1.061903</td>\n    </tr>\n    <tr>\n      <th>7</th>\n      <td>SPY</td>\n      <td>1.025374</td>\n    </tr>\n    <tr>\n      <th>8</th>\n      <td>ASML</td>\n      <td>0.898649</td>\n    </tr>\n    <tr>\n      <th>9</th>\n      <td>WMT</td>\n      <td>0.626276</td>\n    </tr>\n  </tbody>\n</table>\n</div>"
     },
     "metadata": {}
    }
   ]
  }
 ],
 "metadata": {
  "kernelspec": {
   "name": "python3",
   "display_name": "Python 3",
   "language": "python"
  },
  "language_info": {
   "name": "python",
   "version": "3.10.4",
   "mimetype": "text/x-python",
   "codemirror_mode": {
    "name": "ipython",
    "version": 3
   },
   "pygments_lexer": "ipython3",
   "nbconvert_exporter": "python",
   "file_extension": ".py"
  }
 },
 "nbformat": 4,
 "nbformat_minor": 2
}